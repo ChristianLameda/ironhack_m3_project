{
 "cells": [
  {
   "cell_type": "markdown",
   "id": "0cf0f57a",
   "metadata": {},
   "source": [
    "### Imports ###"
   ]
  },
  {
   "cell_type": "code",
   "execution_count": 1,
   "id": "aa706af4",
   "metadata": {},
   "outputs": [],
   "source": [
    "import numpy as np\n",
    "import pandas as pd\n",
    "\n",
    "from sklearn.model_selection import cross_val_score\n",
    "from sklearn.metrics import mean_squared_error\n",
    "from sklearn.ensemble import RandomForestRegressor\n",
    "from sklearn.ensemble import GradientBoostingRegressor\n",
    "from sklearn.model_selection import train_test_split\n",
    "from sklearn.model_selection import GridSearchCV\n",
    "from sklearn.model_selection import RandomizedSearchCV"
   ]
  },
  {
   "cell_type": "markdown",
   "id": "6b105e5f",
   "metadata": {},
   "source": [
    "### Loading Datasets ### "
   ]
  },
  {
   "cell_type": "code",
   "execution_count": 2,
   "id": "44993baf",
   "metadata": {},
   "outputs": [],
   "source": [
    "X = pd.read_csv('../data/x_004.csv', index_col = 0)\n",
    "y = pd.read_csv('../data/y_004.csv', index_col = 0)\n",
    "y = y.values.ravel()\n",
    "x_test = pd.read_csv('../data/x_test_004.csv', index_col = 0)"
   ]
  },
  {
   "cell_type": "markdown",
   "id": "83363e02",
   "metadata": {},
   "source": [
    "### Model ###"
   ]
  },
  {
   "cell_type": "code",
   "execution_count": 3,
   "id": "c506b502",
   "metadata": {},
   "outputs": [],
   "source": [
    "#model = LinearRegression(random_state = 42)\n",
    "#model = RandomForestRegressor(random_state = 42)\n",
    "model = GradientBoostingRegressor(random_state = 42)"
   ]
  },
  {
   "cell_type": "markdown",
   "id": "84688cf6",
   "metadata": {},
   "source": [
    "### Train-Test-Split ###"
   ]
  },
  {
   "cell_type": "code",
   "execution_count": 4,
   "id": "9de5ba5f",
   "metadata": {},
   "outputs": [],
   "source": [
    "# Create train and test (validation) samples\n",
    "\n",
    "X_train, X_test, y_train, y_test = train_test_split(X, y, test_size=0.2, random_state=42)"
   ]
  },
  {
   "cell_type": "code",
   "execution_count": 5,
   "id": "9283680a",
   "metadata": {},
   "outputs": [
    {
     "name": "stdout",
     "output_type": "stream",
     "text": [
      "CPU times: user 2.83 s, sys: 31.2 ms, total: 2.86 s\n",
      "Wall time: 2.96 s\n"
     ]
    },
    {
     "data": {
      "text/plain": [
       "629.5878165984302"
      ]
     },
     "execution_count": 5,
     "metadata": {},
     "output_type": "execute_result"
    }
   ],
   "source": [
    "%%time\n",
    "\n",
    "train = model.fit(X_train, y_train)\n",
    "y_pred = model.predict(X_test)\n",
    "rmse = mean_squared_error(y_test, y_pred, squared=False)\n",
    "rmse"
   ]
  },
  {
   "cell_type": "code",
   "execution_count": 6,
   "id": "522d3b25",
   "metadata": {},
   "outputs": [
    {
     "name": "stdout",
     "output_type": "stream",
     "text": [
      "CPU times: user 4.11 s, sys: 74.8 ms, total: 4.19 s\n",
      "Wall time: 4.84 s\n"
     ]
    }
   ],
   "source": [
    "%%time\n",
    "\n",
    "train_final = model.fit(X, y)\n",
    "y_pred_final = model.predict(x_test)"
   ]
  },
  {
   "cell_type": "markdown",
   "id": "8e231e4d",
   "metadata": {},
   "source": [
    "### Cross Validation ###"
   ]
  },
  {
   "cell_type": "code",
   "execution_count": 7,
   "id": "3d94527b",
   "metadata": {},
   "outputs": [
    {
     "name": "stdout",
     "output_type": "stream",
     "text": [
      "<class 'sklearn.ensemble._gb.GradientBoostingRegressor'> \n",
      "\n",
      "[-658.94974367 -622.09484858 -615.74882842 -625.48207746 -619.29574149] \n",
      "\n",
      "628.3142479245123 \n",
      "\n",
      "CPU times: user 49.6 ms, sys: 90.5 ms, total: 140 ms\n",
      "Wall time: 11.4 s\n"
     ]
    }
   ],
   "source": [
    "%%time\n",
    "\n",
    "scores = cross_val_score(model, \n",
    "                         X, \n",
    "                         y, \n",
    "                         scoring='neg_root_mean_squared_error', \n",
    "                         cv=5,\n",
    "                         n_jobs=-1)\n",
    "\n",
    "print(type(model), '\\n')\n",
    "print(scores, '\\n')\n",
    "print(np.mean(-scores), '\\n')"
   ]
  },
  {
   "cell_type": "markdown",
   "id": "911efafe",
   "metadata": {},
   "source": [
    "### Grid Search ###"
   ]
  },
  {
   "cell_type": "code",
   "execution_count": 8,
   "id": "3d9533f2",
   "metadata": {},
   "outputs": [
    {
     "name": "stdout",
     "output_type": "stream",
     "text": [
      "Fitting 5 folds for each of 24 candidates, totalling 120 fits\n",
      "Best hyperparameters:  {'max_depth': 4, 'n_estimators': 256} \n",
      "\n",
      "Best score:  -548.9368058746908 \n",
      "\n",
      "CPU times: user 9.75 s, sys: 202 ms, total: 9.96 s\n",
      "Wall time: 9min 30s\n",
      "[CV 2/5] END ..max_depth=2, n_estimators=16;, score=-1537.220 total time=   0.4s\n",
      "[CV 2/5] END ..max_depth=2, n_estimators=32;, score=-1132.529 total time=   0.8s\n",
      "[CV 5/5] END ..max_depth=2, n_estimators=32;, score=-1209.658 total time=   0.8s\n",
      "[CV 4/5] END ...max_depth=2, n_estimators=64;, score=-861.105 total time=   2.6s\n",
      "[CV 3/5] END ..max_depth=2, n_estimators=128;, score=-764.859 total time=   4.3s\n",
      "[CV 2/5] END ..max_depth=2, n_estimators=256;, score=-665.585 total time=   8.5s\n",
      "[CV 1/5] END ..max_depth=2, n_estimators=512;, score=-666.076 total time=  18.2s\n",
      "[CV 5/5] END ..max_depth=2, n_estimators=512;, score=-670.586 total time=  18.4s\n",
      "[CV 3/5] END ..max_depth=4, n_estimators=128;, score=-570.369 total time=   6.5s\n",
      "[CV 2/5] END ..max_depth=4, n_estimators=256;, score=-534.366 total time=  15.4s\n",
      "[CV 1/5] END ..max_depth=4, n_estimators=512;, score=-559.126 total time=  29.8s\n",
      "[CV 5/5] END ..max_depth=4, n_estimators=512;, score=-554.014 total time=  34.5s\n",
      "[CV 4/5] END ..max_depth=8, n_estimators=128;, score=-525.956 total time=  11.9s\n",
      "[CV 3/5] END ..max_depth=8, n_estimators=256;, score=-563.574 total time=  23.7s\n",
      "[CV 2/5] END ..max_depth=8, n_estimators=512;, score=-550.819 total time=  59.8s\n",
      "[CV 1/5] END ..max_depth=16, n_estimators=16;, score=-978.942 total time=   3.6s\n",
      "[CV 2/5] END ..max_depth=16, n_estimators=16;, score=-949.514 total time=   3.6s\n",
      "[CV 3/5] END ..max_depth=16, n_estimators=16;, score=-973.149 total time=   3.5s\n",
      "[CV 5/5] END ..max_depth=16, n_estimators=16;, score=-994.552 total time=   4.2s\n",
      "[CV 2/5] END ..max_depth=16, n_estimators=32;, score=-668.319 total time=   8.3s\n",
      "[CV 4/5] END ..max_depth=16, n_estimators=32;, score=-663.144 total time=   7.7s\n",
      "[CV 2/5] END ..max_depth=16, n_estimators=64;, score=-664.831 total time=  14.0s\n",
      "[CV 5/5] END ..max_depth=16, n_estimators=64;, score=-688.279 total time=  14.5s\n",
      "[CV 4/5] END .max_depth=16, n_estimators=128;, score=-643.160 total time=  25.4s\n",
      "[CV 3/5] END .max_depth=16, n_estimators=256;, score=-656.094 total time=  58.0s\n",
      "[CV 2/5] END .max_depth=16, n_estimators=512;, score=-665.205 total time= 1.8min\n",
      "[CV 3/5] END ..max_depth=2, n_estimators=16;, score=-1608.741 total time=   0.4s\n",
      "[CV 5/5] END ..max_depth=2, n_estimators=16;, score=-1618.443 total time=   0.4s\n",
      "[CV 4/5] END ..max_depth=2, n_estimators=32;, score=-1169.686 total time=   0.8s\n",
      "[CV 3/5] END ...max_depth=2, n_estimators=64;, score=-896.955 total time=   2.0s\n",
      "[CV 2/5] END ..max_depth=2, n_estimators=128;, score=-716.893 total time=   4.7s\n",
      "[CV 1/5] END ..max_depth=2, n_estimators=256;, score=-699.402 total time=   8.7s\n",
      "[CV 5/5] END ..max_depth=2, n_estimators=256;, score=-714.616 total time=   8.0s\n",
      "[CV 4/5] END ..max_depth=2, n_estimators=512;, score=-654.933 total time=  22.1s\n",
      "[CV 5/5] END ...max_depth=4, n_estimators=32;, score=-720.576 total time=   1.8s\n",
      "[CV 3/5] END ...max_depth=4, n_estimators=64;, score=-597.571 total time=   3.0s\n",
      "[CV 1/5] END ..max_depth=4, n_estimators=128;, score=-562.330 total time=   6.5s\n",
      "[CV 5/5] END ..max_depth=4, n_estimators=128;, score=-569.304 total time=   6.8s\n",
      "[CV 4/5] END ..max_depth=4, n_estimators=256;, score=-536.049 total time=  15.0s\n",
      "[CV 3/5] END ..max_depth=4, n_estimators=512;, score=-559.376 total time=  33.0s\n",
      "[CV 4/5] END ...max_depth=8, n_estimators=16;, score=-945.149 total time=   3.1s\n",
      "[CV 1/5] END ...max_depth=8, n_estimators=32;, score=-586.902 total time=   5.5s\n",
      "[CV 3/5] END ...max_depth=8, n_estimators=32;, score=-578.793 total time=   4.1s\n",
      "[CV 5/5] END ...max_depth=8, n_estimators=32;, score=-595.059 total time=   3.7s\n",
      "[CV 3/5] END ...max_depth=8, n_estimators=64;, score=-557.535 total time=   6.0s\n",
      "[CV 1/5] END ..max_depth=8, n_estimators=128;, score=-566.404 total time=  11.9s\n",
      "[CV 5/5] END ..max_depth=8, n_estimators=128;, score=-572.190 total time=  11.6s\n",
      "[CV 4/5] END ..max_depth=8, n_estimators=256;, score=-531.285 total time=  24.3s\n",
      "[CV 3/5] END ..max_depth=8, n_estimators=512;, score=-568.600 total time= 1.0min\n",
      "[CV 4/5] END ..max_depth=16, n_estimators=16;, score=-979.966 total time=   3.5s\n",
      "[CV 1/5] END ..max_depth=16, n_estimators=32;, score=-684.844 total time=   8.8s\n",
      "[CV 3/5] END ..max_depth=16, n_estimators=32;, score=-666.588 total time=   7.7s\n",
      "[CV 5/5] END ..max_depth=16, n_estimators=32;, score=-700.243 total time=   7.9s\n",
      "[CV 3/5] END ..max_depth=16, n_estimators=64;, score=-655.790 total time=  13.2s\n",
      "[CV 1/5] END .max_depth=16, n_estimators=128;, score=-678.168 total time=  26.3s\n",
      "[CV 5/5] END .max_depth=16, n_estimators=128;, score=-688.544 total time=  27.9s\n",
      "[CV 4/5] END .max_depth=16, n_estimators=256;, score=-643.177 total time=  56.7s\n",
      "[CV 3/5] END .max_depth=16, n_estimators=512;, score=-656.100 total time= 1.8min\n",
      "[CV 4/5] END ..max_depth=2, n_estimators=16;, score=-1576.020 total time=   0.4s\n",
      "[CV 3/5] END ..max_depth=2, n_estimators=32;, score=-1198.250 total time=   0.8s\n",
      "[CV 2/5] END ...max_depth=2, n_estimators=64;, score=-832.474 total time=   1.7s\n",
      "[CV 5/5] END ...max_depth=2, n_estimators=64;, score=-910.571 total time=   2.7s\n",
      "[CV 4/5] END ..max_depth=2, n_estimators=128;, score=-737.552 total time=   4.2s\n",
      "[CV 3/5] END ..max_depth=2, n_estimators=256;, score=-707.509 total time=   8.6s\n",
      "[CV 2/5] END ..max_depth=2, n_estimators=512;, score=-638.256 total time=  18.0s\n",
      "[CV 1/5] END ..max_depth=4, n_estimators=16;, score=-1142.561 total time=   1.4s\n",
      "[CV 2/5] END ..max_depth=4, n_estimators=16;, score=-1100.340 total time=   1.7s\n",
      "[CV 4/5] END ..max_depth=4, n_estimators=16;, score=-1125.681 total time=   2.1s\n",
      "[CV 1/5] END ...max_depth=4, n_estimators=32;, score=-692.264 total time=   2.3s\n",
      "[CV 3/5] END ...max_depth=4, n_estimators=32;, score=-712.963 total time=   3.5s\n",
      "[CV 1/5] END ...max_depth=4, n_estimators=64;, score=-582.610 total time=   3.3s\n",
      "[CV 4/5] END ...max_depth=4, n_estimators=64;, score=-570.260 total time=   3.0s\n",
      "[CV 2/5] END ..max_depth=4, n_estimators=128;, score=-544.402 total time=   6.4s\n",
      "[CV 1/5] END ..max_depth=4, n_estimators=256;, score=-558.361 total time=  15.4s\n",
      "[CV 5/5] END ..max_depth=4, n_estimators=256;, score=-556.497 total time=  13.4s\n",
      "[CV 4/5] END ..max_depth=4, n_estimators=512;, score=-539.280 total time=  37.4s\n",
      "[CV 1/5] END ...max_depth=8, n_estimators=64;, score=-560.008 total time=   7.0s\n",
      "[CV 4/5] END ...max_depth=8, n_estimators=64;, score=-526.111 total time=   6.0s\n",
      "[CV 2/5] END ..max_depth=8, n_estimators=128;, score=-538.586 total time=  11.9s\n",
      "[CV 1/5] END ..max_depth=8, n_estimators=256;, score=-573.962 total time=  23.7s\n",
      "[CV 5/5] END ..max_depth=8, n_estimators=256;, score=-577.983 total time=  30.6s\n",
      "[CV 4/5] END ..max_depth=8, n_estimators=512;, score=-539.479 total time=  59.1s\n",
      "[CV 1/5] END ..max_depth=16, n_estimators=64;, score=-677.846 total time=  14.2s\n",
      "[CV 4/5] END ..max_depth=16, n_estimators=64;, score=-643.351 total time=  14.2s\n",
      "[CV 3/5] END .max_depth=16, n_estimators=128;, score=-656.084 total time=  25.7s\n",
      "[CV 1/5] END .max_depth=16, n_estimators=256;, score=-678.183 total time=  58.6s\n",
      "[CV 5/5] END .max_depth=16, n_estimators=256;, score=-688.566 total time=  53.2s\n",
      "[CV 4/5] END .max_depth=16, n_estimators=512;, score=-643.179 total time= 1.6min\n",
      "[CV 1/5] END ..max_depth=2, n_estimators=16;, score=-1607.791 total time=   0.4s\n",
      "[CV 1/5] END ..max_depth=2, n_estimators=32;, score=-1184.133 total time=   0.8s\n",
      "[CV 1/5] END ...max_depth=2, n_estimators=64;, score=-878.042 total time=   1.8s\n",
      "[CV 1/5] END ..max_depth=2, n_estimators=128;, score=-751.253 total time=   5.0s\n",
      "[CV 5/5] END ..max_depth=2, n_estimators=128;, score=-779.155 total time=   3.7s\n",
      "[CV 4/5] END ..max_depth=2, n_estimators=256;, score=-685.021 total time=   8.3s\n",
      "[CV 3/5] END ..max_depth=2, n_estimators=512;, score=-667.776 total time=  18.9s\n",
      "[CV 3/5] END ..max_depth=4, n_estimators=16;, score=-1143.850 total time=   1.9s\n",
      "[CV 5/5] END ..max_depth=4, n_estimators=16;, score=-1166.826 total time=   1.6s\n",
      "[CV 2/5] END ...max_depth=4, n_estimators=32;, score=-667.450 total time=   2.7s\n",
      "[CV 4/5] END ...max_depth=4, n_estimators=32;, score=-685.966 total time=   2.9s\n",
      "[CV 2/5] END ...max_depth=4, n_estimators=64;, score=-568.961 total time=   3.2s\n",
      "[CV 5/5] END ...max_depth=4, n_estimators=64;, score=-601.296 total time=   3.2s\n",
      "[CV 4/5] END ..max_depth=4, n_estimators=128;, score=-545.876 total time=   6.5s\n",
      "[CV 3/5] END ..max_depth=4, n_estimators=256;, score=-559.410 total time=  15.2s\n",
      "[CV 2/5] END ..max_depth=4, n_estimators=512;, score=-533.284 total time=  31.2s\n",
      "[CV 1/5] END ...max_depth=8, n_estimators=16;, score=-960.743 total time=   2.0s\n",
      "[CV 2/5] END ...max_depth=8, n_estimators=16;, score=-920.740 total time=   1.9s\n",
      "[CV 3/5] END ...max_depth=8, n_estimators=16;, score=-944.422 total time=   3.5s\n",
      "[CV 5/5] END ...max_depth=8, n_estimators=16;, score=-963.757 total time=   2.4s\n",
      "[CV 2/5] END ...max_depth=8, n_estimators=32;, score=-561.492 total time=   5.4s\n",
      "[CV 4/5] END ...max_depth=8, n_estimators=32;, score=-560.873 total time=   4.0s\n",
      "[CV 2/5] END ...max_depth=8, n_estimators=64;, score=-536.950 total time=   7.0s\n",
      "[CV 5/5] END ...max_depth=8, n_estimators=64;, score=-567.079 total time=   6.0s\n",
      "[CV 3/5] END ..max_depth=8, n_estimators=128;, score=-557.010 total time=  11.9s\n",
      "[CV 2/5] END ..max_depth=8, n_estimators=256;, score=-544.018 total time=  23.7s\n",
      "[CV 1/5] END ..max_depth=8, n_estimators=512;, score=-582.563 total time= 1.0min\n",
      "[CV 5/5] END ..max_depth=8, n_estimators=512;, score=-585.674 total time=  57.8s\n",
      "[CV 2/5] END .max_depth=16, n_estimators=128;, score=-665.188 total time=  26.1s\n",
      "[CV 2/5] END .max_depth=16, n_estimators=256;, score=-665.202 total time=  58.8s\n",
      "[CV 1/5] END .max_depth=16, n_estimators=512;, score=-678.187 total time= 1.8min\n",
      "[CV 5/5] END .max_depth=16, n_estimators=512;, score=-688.572 total time= 1.2min\n"
     ]
    }
   ],
   "source": [
    "%%time\n",
    "\n",
    "param_grid = {'n_estimators': [16, 32, 64, 128, 256, 512],\n",
    "              'max_depth': [2, 4, 8, 16]}\n",
    "\n",
    "grid_search = GridSearchCV(model,\n",
    "                           param_grid,\n",
    "                           cv=5,\n",
    "                           verbose=3,\n",
    "                           scoring='neg_root_mean_squared_error',\n",
    "                           n_jobs=-1)\n",
    "\n",
    "grid_search.fit(X_train, y_train)\n",
    "\n",
    "best_params = grid_search.best_params_\n",
    "best_score = grid_search.best_score_\n",
    "best_model = GradientBoostingRegressor(**best_params)\n",
    "\n",
    "#best_model.fit(X_train, y_train)\n",
    "\n",
    "print('Best hyperparameters: ', grid_search.best_params_, '\\n')\n",
    "print('Best score: ', grid_search.best_score_, '\\n')"
   ]
  },
  {
   "cell_type": "code",
   "execution_count": 9,
   "id": "b9b73775",
   "metadata": {},
   "outputs": [
    {
     "name": "stdout",
     "output_type": "stream",
     "text": [
      "Best score:  -548.9368058746908 \n",
      "\n",
      "CPU times: user 13.5 s, sys: 240 ms, total: 13.7 s\n",
      "Wall time: 15 s\n"
     ]
    }
   ],
   "source": [
    "%%time\n",
    "\n",
    "best_model.fit(X,y)\n",
    "\n",
    "y_pred_grid = best_model.predict(x_test)\n",
    "\n",
    "print('Best score: ', grid_search.best_score_, '\\n')"
   ]
  },
  {
   "cell_type": "markdown",
   "id": "b6dc9b8d",
   "metadata": {},
   "source": [
    "### Submission ###"
   ]
  },
  {
   "cell_type": "code",
   "execution_count": null,
   "id": "79bdabe3",
   "metadata": {},
   "outputs": [],
   "source": [
    "# Creating dataframe\n",
    "submission = pd.DataFrame(y_pred_grid, columns=['price'])\n",
    "submission = submission.rename_axis('id')\n",
    "\n",
    "# Final csv\n",
    "submission.to_csv('../submmissions/sub_021.csv')"
   ]
  }
 ],
 "metadata": {
  "kernelspec": {
   "display_name": "Python [conda env:m3_project]",
   "language": "python",
   "name": "conda-env-m3_project-py"
  },
  "language_info": {
   "codemirror_mode": {
    "name": "ipython",
    "version": 3
   },
   "file_extension": ".py",
   "mimetype": "text/x-python",
   "name": "python",
   "nbconvert_exporter": "python",
   "pygments_lexer": "ipython3",
   "version": "3.11.3"
  }
 },
 "nbformat": 4,
 "nbformat_minor": 5
}
