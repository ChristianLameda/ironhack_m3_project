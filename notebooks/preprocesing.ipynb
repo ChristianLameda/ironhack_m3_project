{
 "cells": [
  {
   "cell_type": "markdown",
   "id": "f6b323a9",
   "metadata": {},
   "source": [
    "### Imports ### "
   ]
  },
  {
   "cell_type": "code",
   "execution_count": 1,
   "id": "6d802037",
   "metadata": {},
   "outputs": [],
   "source": [
    "import numpy as np\n",
    "import pandas as pd\n",
    "from sklearn.preprocessing import RobustScaler, StandardScaler, MinMaxScaler\n",
    "from sklearn.preprocessing import OneHotEncoder, OrdinalEncoder"
   ]
  },
  {
   "cell_type": "markdown",
   "id": "c196cf0f",
   "metadata": {},
   "source": [
    "### Loading Datasets ###"
   ]
  },
  {
   "cell_type": "code",
   "execution_count": 2,
   "id": "8eef9881",
   "metadata": {},
   "outputs": [],
   "source": [
    "diamonds_train = pd.read_csv('../dataset/diamonds_train.csv', index_col=0)\n",
    "diamonds_test = pd.read_csv('../dataset/diamonds_test.csv', index_col=0)"
   ]
  },
  {
   "cell_type": "markdown",
   "id": "3079192f",
   "metadata": {},
   "source": [
    "### Feature Engineering ###"
   ]
  },
  {
   "cell_type": "code",
   "execution_count": 3,
   "id": "e3227cbe",
   "metadata": {},
   "outputs": [],
   "source": [
    "# Creating new Features:\n",
    "diamonds_train['area'] = diamonds_train['x'] * diamonds_train['y'] * diamonds_train['z']\n",
    "diamonds_test['area'] = diamonds_test['x'] * diamonds_test['y'] * diamonds_test['z']\n",
    "\n",
    "# Droping some columns:\n",
    "columns = ['x','y','z','city']\n",
    "diamonds_train.drop(columns, inplace=True, axis=1)\n",
    "diamonds_test.drop(columns, inplace=True, axis=1)"
   ]
  },
  {
   "cell_type": "markdown",
   "id": "20a219cc",
   "metadata": {},
   "source": [
    "### Encoding ###"
   ]
  },
  {
   "cell_type": "code",
   "execution_count": 4,
   "id": "ae7be72b",
   "metadata": {},
   "outputs": [],
   "source": [
    "# Label Encoding for categorical variables:\n",
    "encod_cut = {'Fair': 1, 'Good': 2, 'Very Good': 3, 'Premium': 4, 'Ideal': 5}\n",
    "encod_color = {'Z': 1,'Y': 2,'X': 3,'V': 4,'U': 5,'T': 6,'S': 7,'R': 8,'Q': 9,'P': 10,'O': 11,'N': 12,\\\n",
    "               'M': 13,'L': 14,'K': 15,'J': 16, 'I': 17, 'H': 18, 'G': 19, 'F': 20, 'E': 21, 'D': 22}\n",
    "encod_clarity = {'I3':1, 'I2':2, 'I1':3,'SI2':4, 'SI1':5, 'VS2':6, 'VS1':7, 'VVS2':8, 'VVS1':9, 'IF':10, 'FL':11}\n",
    "encod_city = {'Tel Aviv':1, 'Antwerp':2, 'Luxembourg':3, 'Paris':4, 'Las Vegas':5, 'New York City':6, 'London':8,\\\n",
    "              'Surat':8, 'Madrid':9, 'Kimberly':10, 'Amsterdam':11, 'Dubai':12,'Zurich':9}\n",
    "bins = [0, 0.5, 1, 1.5, 2, 2.5, 3, 3.5, 4, 5]\n",
    "labels = ['0.5', '1', '1.5', '2', '2.5', '3', '3.5', '4', '5']\n",
    "\n",
    "# Diamonds Train:\n",
    "diamonds_train['cut'] = diamonds_train['cut'].map(encod_cut)\n",
    "diamonds_train['color'] = diamonds_train['color'].map(encod_color)\n",
    "diamonds_train['clarity'] = diamonds_train['clarity'].map(encod_clarity)\n",
    "#diamonds_train['city'] = diamonds_train['city'].map(encod_city)\n",
    "#diamonds_train['carat'] = pd.cut(diamonds_train['carat'], bins=bins, labels=labels).astype(float)\n",
    "\n",
    "# One-hot encoding\n",
    "#diamonds_train = pd.get_dummies(diamonds_train, columns=['city'])\n",
    "#label_encoder = LabelEncoder()\n",
    "#diamonds_train['city'] = label_encoder.fit_transform(diamonds_train['city'])\n",
    "\n",
    "# Diammonds Test\n",
    "\n",
    "# Label Encoding for categorical variables:\n",
    "diamonds_test['cut'] = diamonds_test['cut'].map(encod_cut)\n",
    "diamonds_test['color'] = diamonds_test['color'].map(encod_color)\n",
    "diamonds_test['clarity'] = diamonds_test['clarity'].map(encod_clarity)\n",
    "#diamonds_test['city'] = diamonds_test['city'].map(encod_city)\n",
    "#diamonds_test['carat'] = pd.cut(diamonds_test['carat'], bins=bins, labels=labels).astype(float)\n",
    "\n",
    "# One-hot encoding\n",
    "#diamonds_test = pd.get_dummies(diamonds_test, columns=['city'])\n",
    "#label_encoder = LabelEncoder()\n",
    "#diamonds_train['city'] = label_encoder.fit_transform(diamonds_train['city'])"
   ]
  },
  {
   "cell_type": "markdown",
   "id": "61bd4019",
   "metadata": {},
   "source": [
    "### Features + Target ###"
   ]
  },
  {
   "cell_type": "code",
   "execution_count": 5,
   "id": "fecb4901",
   "metadata": {},
   "outputs": [
    {
     "name": "stdout",
     "output_type": "stream",
     "text": [
      "(40455, 7) (40455,)\n"
     ]
    }
   ],
   "source": [
    "# Features + Target\n",
    "train_features = diamonds_train[['carat',\n",
    "          'color',\n",
    "          'cut',\n",
    "          'clarity',\n",
    "          'depth',\n",
    "          'table',\n",
    "          #'city',\n",
    "          'area']]\n",
    "y = diamonds_train['price']\n",
    "print(train_features.shape,y.shape)"
   ]
  },
  {
   "cell_type": "markdown",
   "id": "fe0e824b",
   "metadata": {},
   "source": [
    "### Scaling ###"
   ]
  },
  {
   "cell_type": "code",
   "execution_count": 6,
   "id": "40473eb6",
   "metadata": {},
   "outputs": [],
   "source": [
    "#scaler = StandardScaler()\n",
    "#scaler = MinMaxScaler()\n",
    "scaler = RobustScaler()\n",
    "\n",
    "\n",
    "# Scaling Diamnonds Train \n",
    "\n",
    "scaled_train = scaler.fit_transform(train_features)\n",
    "X = pd.DataFrame(scaled_train, columns=['carat',\n",
    "          'color',\n",
    "          'cut',\n",
    "          'clarity',\n",
    "          'depth',\n",
    "          'table',\n",
    "          #'city',\n",
    "          'area'])\n",
    "\n",
    "# Scaling Diamnonds Test\n",
    "\n",
    "scaled_test = scaler.fit_transform(diamonds_test)\n",
    "scaled_df_test = pd.DataFrame(scaled_test, columns=['carat',\n",
    "          'color',\n",
    "          'cut',\n",
    "          'clarity',\n",
    "          'depth',\n",
    "          'table',\n",
    "          #'city',\n",
    "          'area'])"
   ]
  },
  {
   "cell_type": "markdown",
   "id": "4ba3d261",
   "metadata": {},
   "source": [
    "### Exporting Csv"
   ]
  },
  {
   "cell_type": "code",
   "execution_count": 7,
   "id": "618e5701",
   "metadata": {},
   "outputs": [],
   "source": [
    "# Converting to .csv\n",
    "X.to_csv('../data/x_004.csv')\n",
    "y.to_csv('../data/y_004.csv')\n",
    "diamonds_test.to_csv('../data/x_test_004.csv')"
   ]
  }
 ],
 "metadata": {
  "kernelspec": {
   "display_name": "Python [conda env:m3_project]",
   "language": "python",
   "name": "conda-env-m3_project-py"
  },
  "language_info": {
   "codemirror_mode": {
    "name": "ipython",
    "version": 3
   },
   "file_extension": ".py",
   "mimetype": "text/x-python",
   "name": "python",
   "nbconvert_exporter": "python",
   "pygments_lexer": "ipython3",
   "version": "3.11.3"
  }
 },
 "nbformat": 4,
 "nbformat_minor": 5
}
